{
 "cells": [
  {
   "cell_type": "code",
   "execution_count": 2,
   "metadata": {},
   "outputs": [],
   "source": [
    "import random\n",
    "from torch.utils.data import Dataset\n",
    "import os\n",
    "import torch\n",
    "import numpy as np\n",
    "import pickle\n",
    "from torchvision import transforms\n",
    "from PIL import Image\n",
    "import torchvision\n",
    "import cv2\n",
    "import time\n",
    "import torch.nn.functional as F"
   ]
  },
  {
   "cell_type": "markdown",
   "metadata": {},
   "source": [
    "---------\n",
    "------\n",
    "\n",
    "HARAKAT / NO HARAKAT (improved version)"
   ]
  },
  {
   "cell_type": "code",
   "execution_count": 3,
   "metadata": {},
   "outputs": [
    {
     "name": "stdout",
     "output_type": "stream",
     "text": [
      "Extended Arabic unifont pickle file (with harakāt and baseline alignment) created and saved successfully.\n"
     ]
    }
   ],
   "source": [
    "import arabic_reshaper\n",
    "from bidi.algorithm import get_display\n",
    "from PIL import Image, ImageDraw, ImageFont\n",
    "import numpy as np\n",
    "import pickle\n",
    "\n",
    "# === Character Groups ===\n",
    "arabic_chars   = \"ءاأإآابتثجحخدذرزسشصضطظعغفقكلمنهويىئؤة\"\n",
    "# Harakāt (diacritics) including shadda.\n",
    "harakat        = \"ًٌٍَُِّ\"  # fatha, damma, kasra, tanwin fatha, tanwin damma, tanwin kasra, shadda\n",
    "\n",
    "# === Font Setup ===\n",
    "font_path = \"./unifont-16.0.02.otf\"  # Adjust this path as needed\n",
    "font_size = 16  # Native unifont resolution\n",
    "font = ImageFont.truetype(font_path, font_size)\n",
    "\n",
    "# === Configure ArabicReshaper for Harakāt Support ===\n",
    "configuration = {\n",
    "    'delete_harakat': False,\n",
    "    'support_ligatures': True,\n",
    "    'RIAL SIGN': True,\n",
    "}\n",
    "reshaper = arabic_reshaper.ArabicReshaper(configuration=configuration)\n",
    "\n",
    "# --- Shaping Functions using Dummy ZWJ ---\n",
    "zwj = \"\\u200D\"  # zero-width joiner to force joining without visible dummy\n",
    "\n",
    "def get_shaped_form(letter, form):\n",
    "    \"\"\"\n",
    "    Force a letter into a desired contextual form using the zero-width joiner.\n",
    "    Forms: \"isolated\", \"initial\", \"medial\", \"final\".\n",
    "    \"\"\"\n",
    "    if form == \"isolated\":\n",
    "        s = letter\n",
    "    elif form == \"initial\":\n",
    "        s = letter + zwj\n",
    "    elif form == \"medial\":\n",
    "        s = zwj + letter + zwj\n",
    "    elif form == \"final\":\n",
    "        s = zwj + letter\n",
    "    else:\n",
    "        s = letter\n",
    "    reshaped = arabic_reshaper.reshape(s)\n",
    "    bidi_text = get_display(reshaped)\n",
    "    return bidi_text\n",
    "\n",
    "def get_shaped_form_with_harakat(letter, form, diacritic):\n",
    "    \"\"\"\n",
    "    Create a composite glyph for an Arabic letter with a diacritic.\n",
    "    Combines the letter with the diacritic and forces joining via the ZWJ.\n",
    "    \"\"\"\n",
    "    base = letter + diacritic  # e.g. \"سَ\" or \"سّ\"\n",
    "    if form == \"isolated\":\n",
    "        s = base\n",
    "    elif form == \"initial\":\n",
    "        s = base + zwj\n",
    "    elif form == \"medial\":\n",
    "        s = zwj + base + zwj\n",
    "    elif form == \"final\":\n",
    "        s = zwj + base\n",
    "    else:\n",
    "        s = base\n",
    "    reshaped = reshaper.reshape(s)\n",
    "    bidi_text = get_display(reshaped)\n",
    "    return bidi_text\n",
    "\n",
    "# === Glyph Rendering with Baseline Alignment ===\n",
    "def render_glyph(text):\n",
    "    \"\"\"\n",
    "    Render the given text (a single glyph) on a 16x16 black canvas.\n",
    "    The glyph is baseline-aligned using font metrics.\n",
    "    In the output NumPy array, drawn (white) pixels are True and background (black) is False.\n",
    "    \"\"\"\n",
    "    # Create a black background.\n",
    "    img = Image.new(\"L\", (font_size, font_size), color=0)\n",
    "    draw = ImageDraw.Draw(img)\n",
    "    \n",
    "    # Get font metrics.\n",
    "    ascent, descent = font.getmetrics()\n",
    "    baseline_y = font_size - descent  # common baseline\n",
    "    \n",
    "    # Get text bounding box.\n",
    "    bbox = draw.textbbox((0, 0), text, font=font)\n",
    "    text_width = bbox[2] - bbox[0]\n",
    "    text_height = bbox[3] - bbox[1]\n",
    "    \n",
    "    # Center horizontally and align vertically on the baseline.\n",
    "    x_pos = (font_size - text_width) // 2 - bbox[0]\n",
    "    y_pos = baseline_y - ascent\n",
    "    \n",
    "    # Draw the text in white.\n",
    "    draw.text((x_pos, y_pos), text, font=font, fill=255)\n",
    "    \n",
    "    # Convert to NumPy array and binarize.\n",
    "    img_array = np.array(img)\n",
    "    binary_array = (img_array >= 128)\n",
    "    return binary_array\n",
    "\n",
    "# === Generate Glyph Data Dictionary with Harakāt ===\n",
    "# For Arabic letters, we create four contextual forms.\n",
    "forms = [\"isolated\", \"initial\", \"medial\", \"final\"]\n",
    "glyph_data_with_harakat = {}\n",
    "\n",
    "for letter in arabic_chars:\n",
    "    glyph_data_with_harakat[letter] = {}\n",
    "    for form in forms:\n",
    "        glyph_data_with_harakat[letter][form] = {}\n",
    "        # For each diacritic variant.\n",
    "        for d in harakat:\n",
    "            shaped = get_shaped_form_with_harakat(letter, form, d)\n",
    "            binary_img = render_glyph(shaped)\n",
    "            glyph_data_with_harakat[letter][form][d] = binary_img\n",
    "        # Also include the base (no diacritic) version.\n",
    "        shaped = get_shaped_form(letter, form)\n",
    "        binary_img = render_glyph(shaped)\n",
    "        glyph_data_with_harakat[letter][form][\"base\"] = binary_img\n",
    "\n",
    "# Process non-joining characters (numbers, punctuation, symbols) as default.\n",
    "non_joining_groups = {}\n",
    "groups = {\n",
    "    \"arabic_numbers\": \"٠١٢٣٤٥٦٧٨٩\",\n",
    "    \"english_numbers\": \"0123456789\",\n",
    "    \"punctuation\": \"!\\\"#$%&'()*+,-./:;<=>?@[\\\\]^_`{|}~،؛؟\",\n",
    "    \"symbols\": \"$€£¥¢©®±×÷\"\n",
    "}\n",
    "for group_name, group in groups.items():\n",
    "    for char in group:\n",
    "        non_joining_groups[char] = {\"default\": render_glyph(char)}\n",
    "\n",
    "# Define PAD token (here, a white 16x16 image for spacing).\n",
    "non_joining_groups[\"PAD\"] = {\"default\": np.ones((16, 16), dtype=bool)}\n",
    "\n",
    "# === Build Pickle Data Structure ===\n",
    "# For Arabic letters, we map: letter2index[letter][form][diacritic] = unique index.\n",
    "glyph_entries = []\n",
    "letter2index = {}\n",
    "current_idx = 0\n",
    "\n",
    "for letter in glyph_data_with_harakat:\n",
    "    letter2index[letter] = {}\n",
    "    for form in forms:\n",
    "        letter2index[letter][form] = {}\n",
    "        for d in list(harakat) + [\"base\"]:\n",
    "            entry = {\n",
    "                \"idx\": [current_idx],\n",
    "                \"char\": letter,\n",
    "                \"form\": form,\n",
    "                \"diacritic\": d,\n",
    "                \"mat\": glyph_data_with_harakat[letter][form][d]\n",
    "            }\n",
    "            glyph_entries.append(entry)\n",
    "            letter2index[letter][form][d] = current_idx\n",
    "            current_idx += 1\n",
    "\n",
    "# Process non-joining characters.\n",
    "for group in non_joining_groups:\n",
    "    entry = {\n",
    "        \"idx\": [current_idx],\n",
    "        \"char\": group,\n",
    "        \"form\": \"default\",\n",
    "        \"mat\": non_joining_groups[group][\"default\"]\n",
    "    }\n",
    "    glyph_entries.append(entry)\n",
    "    letter2index[group] = current_idx\n",
    "    current_idx += 1\n",
    "\n",
    "# Build final data dictionary.\n",
    "data = {\n",
    "    \"with_harakat\": {\n",
    "        \"glyph_entries\": glyph_entries,\n",
    "        \"letter2index\": letter2index\n",
    "    }\n",
    "}\n",
    "\n",
    "# Save to pickle.\n",
    "with open(\"unifont_arabic.pickle\", \"wb\") as f:\n",
    "    pickle.dump(data, f)\n",
    "\n",
    "print(\"Extended Arabic unifont pickle file (with harakāt and baseline alignment) created and saved successfully.\")\n"
   ]
  },
  {
   "cell_type": "code",
   "execution_count": 4,
   "metadata": {},
   "outputs": [
    {
     "data": {
      "image/png": "[encoded data removed]",
      "text/plain": [
       "<Figure size 3400x200 with 17 Axes>"
      ]
     },
     "metadata": {},
     "output_type": "display_data"
    }
   ],
   "source": [
    "import re\n",
    "import pickle\n",
    "import torch\n",
    "import matplotlib.pyplot as plt\n",
    "import numpy as np\n",
    "import unicodedata\n",
    "\n",
    "# --- Boolean Switch ---\n",
    "SHOW_HARAKAT = True  # Set to True to show diacritics, False to strip them away\n",
    "\n",
    "# --- Character Groups ---\n",
    "arabic_chars   = \"ءاأإآابتثجحخدذرزسشصضطظعغفقكلمنهويىئؤة\"\n",
    "arabic_numbers = \"٠١٢٣٤٥٦٧٨٩\"\n",
    "english_numbers= \"0123456789\"\n",
    "punctuation    = \"!\\\"#$%&'()*+,-./:;<=>?@[\\\\]^_`{|}~،؛؟\"\n",
    "symbols        = \"$€£¥¢©®±×÷\"\n",
    "\n",
    "# Harakāt set (include sukūn)\n",
    "harakat_set = set(\"ًٌٍَُِّْ\")\n",
    "\n",
    "def preprocess_text(text):\n",
    "    \"\"\"\n",
    "    Pre-process the text so that any contiguous sequence of English digits\n",
    "    is reversed. This ensures that after the overall reversal for RTL display,\n",
    "    the English numbers appear in their original order.\n",
    "    \"\"\"\n",
    "    def reverse_digits(match):\n",
    "        return match.group(0)[::-1]\n",
    "    return re.sub(r'\\d+', reverse_digits, text)\n",
    "\n",
    "def load_unifont_arabic(pickle_path=\"./unifont_arabic_ext_2.pickle\"):\n",
    "    with open(pickle_path, \"rb\") as f:\n",
    "        data = pickle.load(f)\n",
    "    glyph_entries = data['with_harakat']['glyph_entries']\n",
    "    letter2index = data['with_harakat']['letter2index']\n",
    "    total = len(glyph_entries)\n",
    "    glyph_list = [None] * total\n",
    "    for entry in glyph_entries:\n",
    "        idx = entry['idx'][0]\n",
    "        glyph_list[idx] = torch.from_numpy(entry['mat'].astype(np.float32))\n",
    "    con_symbols = torch.stack(glyph_list)\n",
    "    return con_symbols, letter2index\n",
    "\n",
    "def shape_arabic_text(text, letter2index):\n",
    "    # Pre-process text so that English digit sequences are reversed.\n",
    "    text = preprocess_text(text)\n",
    "    # Normalize the entire text to NFC so that composed characters remain intact.\n",
    "    text = unicodedata.normalize(\"NFC\", text)\n",
    "    \n",
    "    non_joining = set(\"اأإآدذرزو\")\n",
    "    tokens = []\n",
    "    i = 0\n",
    "    n = len(text)\n",
    "    while i < n:\n",
    "        char = text[i]\n",
    "        if char in arabic_chars:\n",
    "            diacritic = \"base\"\n",
    "            if i + 1 < n and text[i+1] in harakat_set:\n",
    "                diacritic = unicodedata.normalize(\"NFC\", text[i+1])\n",
    "                i += 2\n",
    "            else:\n",
    "                i += 1\n",
    "            tokens.append((char, diacritic))\n",
    "        elif text[i] in harakat_set:\n",
    "            i += 1\n",
    "        else:\n",
    "            tokens.append((text[i], None))\n",
    "            i += 1\n",
    "\n",
    "    # If the switch is off, strip away diacritics by setting them to \"base\".\n",
    "    if not SHOW_HARAKAT:\n",
    "        tokens = [(char, \"base\") if char in arabic_chars else (char, d) for char, d in tokens]\n",
    "    \n",
    "    indices = []\n",
    "    labels = []\n",
    "    num_tokens = len(tokens)\n",
    "    for i, token in enumerate(tokens):\n",
    "        char, d = token\n",
    "        if char in arabic_chars:\n",
    "            prev_join = (i > 0 and tokens[i-1][0] in arabic_chars and tokens[i-1][0] not in non_joining)\n",
    "            next_join = (i < num_tokens - 1 and tokens[i+1][0] in arabic_chars)\n",
    "            curr_joinable = (char not in non_joining)\n",
    "            if not curr_joinable:\n",
    "                form = \"final\" if prev_join else \"isolated\"\n",
    "            else:\n",
    "                if prev_join and next_join:\n",
    "                    form = \"medial\"\n",
    "                elif prev_join and not next_join:\n",
    "                    form = \"final\"\n",
    "                elif not prev_join and next_join:\n",
    "                    form = \"initial\"\n",
    "                else:\n",
    "                    form = \"isolated\"\n",
    "            try:\n",
    "                idx = letter2index[char][form][d]\n",
    "            except KeyError:\n",
    "                idx = letter2index[char][\"isolated\"][\"base\"]\n",
    "            indices.append(idx)\n",
    "            # Label: if SHOW_HARAKAT is False, diacritic is not shown.\n",
    "            label = char + ((\"\" if not SHOW_HARAKAT else d) if d != \"base\" else \"\") + \"\\n\" + form\n",
    "            labels.append(label)\n",
    "        else:\n",
    "            if char in letter2index:\n",
    "                if isinstance(letter2index[char], dict):\n",
    "                    idx = letter2index[char][\"default\"]\n",
    "                else:\n",
    "                    idx = letter2index[char]\n",
    "                form = \"default\"\n",
    "            else:\n",
    "                idx = letter2index[\"PAD\"]\n",
    "                form = \"PAD\"\n",
    "            indices.append(idx)\n",
    "            labels.append(char + \"\\n\" + form)\n",
    "    \n",
    "    return list(reversed(indices)), list(reversed(labels))\n",
    "\n",
    "def get_content_glyphs(text, con_symbols, letter2index):\n",
    "    indices, labels = shape_arabic_text(text, letter2index)\n",
    "    content = con_symbols[indices]\n",
    "    content = 1.0 - content\n",
    "    return content, labels\n",
    "\n",
    "def plot_glyphs(glyphs, text, labels):\n",
    "    num_chars = glyphs.shape[0]\n",
    "    fig, axes = plt.subplots(1, num_chars, figsize=(num_chars * 2, 2))\n",
    "    if num_chars == 1:\n",
    "        axes = [axes]\n",
    "    rev_text = text[::-1]  # Note: reversal is applied after pre-processing.\n",
    "    for i, ax in enumerate(axes):\n",
    "        ax.imshow(glyphs[i].numpy(), cmap='gray')\n",
    "        ax.set_title(labels[i], fontsize=8)\n",
    "        ax.axis('off')\n",
    "    plt.tight_layout()\n",
    "    plt.show()\n",
    "\n",
    "# --- Example Usage ---\n",
    "pickle_path = \"./unifont_arabic.pickle\"\n",
    "con_symbols, letter2index = load_unifont_arabic(pickle_path)\n",
    "example_text = \"المرناقيّة 20 مارس\"\n",
    "glyphs, labels = get_content_glyphs(example_text, con_symbols, letter2index)\n",
    "plot_glyphs(glyphs, example_text, labels)\n"
   ]
  },
  {
   "cell_type": "code",
   "execution_count": 6,
   "metadata": {},
   "outputs": [
    {
     "name": "stdout",
     "output_type": "stream",
     "text": [
      "Word: الشرايع\n",
      "Detected Forms: ['final', 'initial', 'isolated', 'final', 'medial', 'initial', 'isolated']\n"
     ]
    },
    {
     "data": {
      "image/png": "[encoded data removed]",
      "text/plain": [
       "<Figure size 1400x200 with 7 Axes>"
      ]
     },
     "metadata": {},
     "output_type": "display_data"
    },
    {
     "name": "stdout",
     "output_type": "stream",
     "text": [
      "Word: اللواتة\n",
      "Detected Forms: ['final', 'initial', 'isolated', 'final', 'medial', 'initial', 'isolated']\n"
     ]
    },
    {
     "data": {
      "image/png": "[encoded data removed]",
      "text/plain": [
       "<Figure size 1400x200 with 7 Axes>"
      ]
     },
     "metadata": {},
     "output_type": "display_data"
    },
    {
     "name": "stdout",
     "output_type": "stream",
     "text": [
      "Word: الدخّانية\n",
      "Detected Forms: ['final', 'medial', 'initial', 'final', 'initial', 'final', 'initial', 'isolated']\n"
     ]
    },
    {
     "data": {
      "image/png": "[encoded data removed]",
      "text/plain": [
       "<Figure size 1600x200 with 8 Axes>"
      ]
     },
     "metadata": {},
     "output_type": "display_data"
    },
    {
     "name": "stdout",
     "output_type": "stream",
     "text": [
      "Word: الناضور\n",
      "Detected Forms: ['isolated', 'final', 'initial', 'final', 'medial', 'initial', 'isolated']\n"
     ]
    },
    {
     "data": {
      "image/png": "[encoded data removed]",
      "text/plain": [
       "<Figure size 1400x200 with 7 Axes>"
      ]
     },
     "metadata": {},
     "output_type": "display_data"
    },
    {
     "name": "stdout",
     "output_type": "stream",
     "text": [
      "Word: الهيشرّية\n",
      "Detected Forms: ['final', 'initial', 'final', 'medial', 'medial', 'medial', 'initial', 'isolated']\n"
     ]
    },
    {
     "data": {
      "image/png": "[encoded data removed]",
      "text/plain": [
       "<Figure size 1600x200 with 8 Axes>"
      ]
     },
     "metadata": {},
     "output_type": "display_data"
    },
    {
     "name": "stdout",
     "output_type": "stream",
     "text": [
      "Word: حي التّحرير\n",
      "Detected Forms: ['final', 'initial', 'final', 'medial', 'medial', 'initial', 'isolated', 'PAD', 'final', 'initial']\n"
     ]
    },
    {
     "data": {
      "image/png": "[encoded data removed]",
      "text/plain": [
       "<Figure size 2000x200 with 10 Axes>"
      ]
     },
     "metadata": {},
     "output_type": "display_data"
    },
    {
     "name": "stdout",
     "output_type": "stream",
     "text": [
      "Word: مارث\n",
      "Detected Forms: ['isolated', 'isolated', 'final', 'initial']\n"
     ]
    },
    {
     "data": {
      "image/png": "[encoded data removed]",
      "text/plain": [
       "<Figure size 800x200 with 4 Axes>"
      ]
     },
     "metadata": {},
     "output_type": "display_data"
    },
    {
     "name": "stdout",
     "output_type": "stream",
     "text": [
      "Word: نكريف\n",
      "Detected Forms: ['final', 'initial', 'final', 'medial', 'initial']\n"
     ]
    },
    {
     "data": {
      "image/png": "[encoded data removed]",
      "text/plain": [
       "<Figure size 1000x200 with 5 Axes>"
      ]
     },
     "metadata": {},
     "output_type": "display_data"
    },
    {
     "name": "stdout",
     "output_type": "stream",
     "text": [
      "Word: مثلين\n",
      "Detected Forms: ['final', 'medial', 'medial', 'medial', 'initial']\n"
     ]
    },
    {
     "data": {
      "image/png": "[encoded data removed]",
      "text/plain": [
       "<Figure size 1000x200 with 5 Axes>"
      ]
     },
     "metadata": {},
     "output_type": "display_data"
    },
    {
     "name": "stdout",
     "output_type": "stream",
     "text": [
      "Word: الدخّانية\n",
      "Detected Forms: ['final', 'medial', 'initial', 'final', 'initial', 'final', 'initial', 'isolated']\n"
     ]
    },
    {
     "data": {
      "image/png": "[encoded data removed]",
      "text/plain": [
       "<Figure size 1600x200 with 8 Axes>"
      ]
     },
     "metadata": {},
     "output_type": "display_data"
    },
    {
     "name": "stdout",
     "output_type": "stream",
     "text": [
      "Word: بوفيشة\n",
      "Detected Forms: ['final', 'medial', 'medial', 'initial', 'final', 'initial']\n"
     ]
    },
    {
     "data": {
      "image/png": "[encoded data removed]",
      "text/plain": [
       "<Figure size 1200x200 with 6 Axes>"
      ]
     },
     "metadata": {},
     "output_type": "display_data"
    },
    {
     "name": "stdout",
     "output_type": "stream",
     "text": [
      "Word: حي الصلاح\n",
      "Detected Forms: ['isolated', 'final', 'medial', 'medial', 'initial', 'isolated', 'PAD', 'final', 'initial']\n"
     ]
    },
    {
     "data": {
      "image/png": "[encoded data removed]",
      "text/plain": [
       "<Figure size 1800x200 with 9 Axes>"
      ]
     },
     "metadata": {},
     "output_type": "display_data"
    },
    {
     "name": "stdout",
     "output_type": "stream",
     "text": [
      "Word: سيدي عثمان\n",
      "Detected Forms: ['isolated', 'final', 'medial', 'medial', 'initial', 'PAD', 'isolated', 'final', 'medial', 'initial']\n"
     ]
    },
    {
     "data": {
      "image/png": "[encoded data removed]",
      "text/plain": [
       "<Figure size 2000x200 with 10 Axes>"
      ]
     },
     "metadata": {},
     "output_type": "display_data"
    },
    {
     "name": "stdout",
     "output_type": "stream",
     "text": [
      "Word: الذويبات\n",
      "Detected Forms: ['isolated', 'final', 'medial', 'initial', 'isolated', 'final', 'initial', 'isolated']\n"
     ]
    },
    {
     "data": {
      "image/png": "[encoded data removed]",
      "text/plain": [
       "<Figure size 1600x200 with 8 Axes>"
      ]
     },
     "metadata": {},
     "output_type": "display_data"
    },
    {
     "name": "stdout",
     "output_type": "stream",
     "text": [
      "Word: أكّودة\n",
      "Detected Forms: ['isolated', 'isolated', 'final', 'initial', 'isolated']\n"
     ]
    },
    {
     "data": {
      "image/png": "[encoded data removed]",
      "text/plain": [
       "<Figure size 1000x200 with 5 Axes>"
      ]
     },
     "metadata": {},
     "output_type": "display_data"
    },
    {
     "name": "stdout",
     "output_type": "stream",
     "text": [
      "Word: عين الدّفلة\n",
      "Detected Forms: ['final', 'medial', 'initial', 'final', 'initial', 'isolated', 'PAD', 'final', 'medial', 'initial']\n"
     ]
    },
    {
     "data": {
      "image/png": "[encoded data removed]",
      "text/plain": [
       "<Figure size 2000x200 with 10 Axes>"
      ]
     },
     "metadata": {},
     "output_type": "display_data"
    },
    {
     "name": "stdout",
     "output_type": "stream",
     "text": [
      "Word: بوعثمان\n",
      "Detected Forms: ['isolated', 'final', 'medial', 'medial', 'initial', 'final', 'initial']\n"
     ]
    },
    {
     "data": {
      "image/png": "[encoded data removed]",
      "text/plain": [
       "<Figure size 1400x200 with 7 Axes>"
      ]
     },
     "metadata": {},
     "output_type": "display_data"
    },
    {
     "name": "stdout",
     "output_type": "stream",
     "text": [
      "Word: منزل تميم\n",
      "Detected Forms: ['final', 'medial', 'medial', 'initial', 'PAD', 'isolated', 'final', 'medial', 'initial']\n"
     ]
    },
    {
     "data": {
      "image/png": "[encoded data removed]",
      "text/plain": [
       "<Figure size 1800x200 with 9 Axes>"
      ]
     },
     "metadata": {},
     "output_type": "display_data"
    },
    {
     "name": "stdout",
     "output_type": "stream",
     "text": [
      "Word: عين تبرنق\n",
      "Detected Forms: ['final', 'initial', 'final', 'medial', 'initial', 'PAD', 'final', 'medial', 'initial']\n"
     ]
    },
    {
     "data": {
      "image/png": "[encoded data removed]",
      "text/plain": [
       "<Figure size 1800x200 with 9 Axes>"
      ]
     },
     "metadata": {},
     "output_type": "display_data"
    },
    {
     "name": "stdout",
     "output_type": "stream",
     "text": [
      "Word: قريبيص\n",
      "Detected Forms: ['final', 'medial', 'medial', 'initial', 'final', 'initial']\n"
     ]
    },
    {
     "data": {
      "image/png": "[encoded data removed]",
      "text/plain": [
       "<Figure size 1200x200 with 6 Axes>"
      ]
     },
     "metadata": {},
     "output_type": "display_data"
    }
   ],
   "source": [
    "import os\n",
    "import re\n",
    "import pickle\n",
    "import torch\n",
    "from torch.utils.data import Dataset\n",
    "import numpy as np\n",
    "import unicodedata\n",
    "from PIL import Image, ImageDraw, ImageFont\n",
    "import matplotlib.pyplot as plt\n",
    "import torchvision.transforms as transforms\n",
    "\n",
    "# --- Boolean Switch ---\n",
    "SHOW_HARAKAT = False  # Set to True to show diacritics; False to strip them away\n",
    "\n",
    "# --- Character Groups ---\n",
    "arabic_chars   = \"ءاأإآابتثجحخدذرزسشصضطظعغفقكلمنهويىئؤة\"\n",
    "arabic_numbers = \"٠١٢٣٤٥٦٧٨٩\"\n",
    "english_numbers= \"0123456789\"\n",
    "punctuation    = \"!\\\"#$%&'()*+,-./:;<=>?@[\\\\]^_`{|}~،؛؟\"\n",
    "symbols        = \"$€£¥¢©®±×÷\"\n",
    "\n",
    "# Define the order of characters (if needed for content mapping).\n",
    "letters = arabic_chars + arabic_numbers + english_numbers + punctuation + symbols\n",
    "\n",
    "# --- Harakāt set (include sukūn) ---\n",
    "harakat_set = set(\"ًٌٍَُِّْ\")\n",
    "\n",
    "# --- Preprocessing Function ---\n",
    "def preprocess_text(text):\n",
    "    \"\"\"\n",
    "    Pre-process the text so that any contiguous sequence of English digits\n",
    "    is reversed. This ensures that after the overall reversal for RTL display,\n",
    "    the English numbers appear in their original order.\n",
    "    For example, \"20\" becomes \"02\" here, and after reversal becomes \"20\".\n",
    "    \"\"\"\n",
    "    def reverse_digits(match):\n",
    "        return match.group(0)[::-1]\n",
    "    return re.sub(r'\\d+', reverse_digits, text)\n",
    "\n",
    "def effective_length(text):\n",
    "    \"\"\"\n",
    "    Computes the effective length of a text, ignoring any harakāt (diacritics).\n",
    "    The text is first normalized to NFD so that diacritics are decomposed.\n",
    "    Then, any character that is a Unicode combining mark is filtered out.\n",
    "    \"\"\"\n",
    "    # Normalize text to NFD to separate base characters and diacritics\n",
    "    decomposed = unicodedata.normalize(\"NFD\", text)\n",
    "    # Count only characters that are not combining marks\n",
    "    return len([ch for ch in decomposed if not unicodedata.combining(ch)])\n",
    "\n",
    "# --- Function to Load Unifont Glyphs and Mapping ---\n",
    "def load_unifont_arabic(pickle_path=\"unifont_arabic.pickle\"):\n",
    "    \"\"\"\n",
    "    Loads the pre-generated pickle file containing a list of glyph entries and the\n",
    "    letter-to-index mapping. Each glyph is a 16×16 binary NumPy array converted to a torch tensor.\n",
    "    Returns:\n",
    "      - con_symbols: A tensor of shape (total_glyphs, 16, 16)\n",
    "      - letter2index: A dictionary mapping each character (for Arabic letters, a dict of forms)\n",
    "                      to its corresponding index in con_symbols.\n",
    "    \"\"\"\n",
    "    with open(pickle_path, \"rb\") as f:\n",
    "        data = pickle.load(f)\n",
    "    glyph_entries = data['with_harakat']['glyph_entries']\n",
    "    letter2index = data['with_harakat']['letter2index']\n",
    "    total = len(glyph_entries)\n",
    "    glyph_list = [None] * total\n",
    "    for entry in glyph_entries:\n",
    "        idx = entry['idx'][0]\n",
    "        glyph_list[idx] = torch.from_numpy(entry['mat'].astype(np.float32))\n",
    "    con_symbols = torch.stack(glyph_list)\n",
    "    return con_symbols, letter2index\n",
    "\n",
    "# --- Joining Heuristic Functions ---\n",
    "def shape_arabic_text(text, letter2index):\n",
    "    \"\"\"\n",
    "    Processes the input text as follows:\n",
    "      1. Pre-processes English digit sequences,\n",
    "      2. Normalizes the entire text to NFC (to keep composed characters intact),\n",
    "      3. Tokenizes the text into (char, diacritic) pairs for Arabic letters,\n",
    "         keeping non-Arabic characters unchanged.\n",
    "      4. If SHOW_HARAKAT is False, forces each Arabic letter's diacritic to \"base\".\n",
    "      5. Determines the appropriate contextual form (isolated, initial, medial, final)\n",
    "         for each Arabic letter based on its neighbors.\n",
    "      6. Returns two lists: one of glyph indices (for lookup) and one of detected forms.\n",
    "         Finally, both lists are reversed to simulate right-to-left display.\n",
    "    \"\"\"\n",
    "    text = preprocess_text(text)\n",
    "    text = unicodedata.normalize(\"NFC\", text)\n",
    "    \n",
    "    non_joining = set(\"اأإآدذرزو\")\n",
    "    tokens = []\n",
    "    i = 0\n",
    "    n = len(text)\n",
    "    # Tokenization: group each Arabic letter with its following diacritic (if any)\n",
    "    while i < n:\n",
    "        char = text[i]\n",
    "        if char in arabic_chars:\n",
    "            diacritic = \"base\"\n",
    "            if i + 1 < n and text[i+1] in set(\"ًٌٍَُِّْ\"):\n",
    "                diacritic = unicodedata.normalize(\"NFC\", text[i+1])\n",
    "                i += 2\n",
    "            else:\n",
    "                i += 1\n",
    "            tokens.append((char, diacritic))\n",
    "        elif text[i] in set(\"ًٌٍَُِّْ\"):\n",
    "            i += 1\n",
    "        else:\n",
    "            tokens.append((text[i], None))\n",
    "            i += 1\n",
    "\n",
    "    # If harakāt are not to be shown, force all Arabic letters to use \"base\".\n",
    "    if not SHOW_HARAKAT:\n",
    "        tokens = [(char, \"base\") if char in arabic_chars else (char, d) for char, d in tokens]\n",
    "\n",
    "    indices = []\n",
    "    forms_detected = []\n",
    "    num_tokens = len(tokens)\n",
    "    for i, token in enumerate(tokens):\n",
    "        char, d = token\n",
    "        if char in arabic_chars:\n",
    "            prev_join = (i > 0 and tokens[i-1][0] in arabic_chars and tokens[i-1][0] not in non_joining)\n",
    "            next_join = (i < num_tokens - 1 and tokens[i+1][0] in arabic_chars)\n",
    "            curr_joinable = (char not in non_joining)\n",
    "            if not curr_joinable:\n",
    "                form = \"final\" if prev_join else \"isolated\"\n",
    "            else:\n",
    "                if prev_join and next_join:\n",
    "                    form = \"medial\"\n",
    "                elif prev_join and not next_join:\n",
    "                    form = \"final\"\n",
    "                elif not prev_join and next_join:\n",
    "                    form = \"initial\"\n",
    "                else:\n",
    "                    form = \"isolated\"\n",
    "            try:\n",
    "                idx = letter2index[char][form][\"base\"]\n",
    "            except KeyError:\n",
    "                idx = letter2index[char][\"isolated\"][\"base\"]\n",
    "            indices.append(idx)\n",
    "            forms_detected.append(form)\n",
    "        else:\n",
    "            # For non-Arabic characters, use the \"default\" mapping.\n",
    "            if char in letter2index:\n",
    "                if isinstance(letter2index[char], dict):\n",
    "                    idx = letter2index[char][\"default\"]\n",
    "                else:\n",
    "                    idx = letter2index[char]\n",
    "                form = \"default\"\n",
    "            else:\n",
    "                idx = letter2index[\"PAD\"]\n",
    "                form = \"PAD\"\n",
    "            indices.append(idx)\n",
    "            forms_detected.append(form)\n",
    "    \n",
    "    return list(reversed(indices)), list(reversed(forms_detected))\n",
    "\n",
    "def get_content_glyphs(text, con_symbols, letter2index):\n",
    "    indices, forms = shape_arabic_text(text, letter2index)\n",
    "    content = con_symbols[indices]\n",
    "    content = 1.0 - content\n",
    "    return content, forms\n",
    "\n",
    "# --- ContentData Dataset Class ---\n",
    "class ContentData(Dataset):\n",
    "    def __init__(self, text_path, pickle_path=\"unifont_arabic.pickle\", max_len=10):\n",
    "        \"\"\"\n",
    "        Loads handwritten Arabic word transcriptions from a text file (formatted as in the IAM dataset)\n",
    "        and prepares each word's glyph representations using our Unifont mapping and context-aware joining heuristic.\n",
    "        \n",
    "        Note: Each line is expected to be formatted as:\n",
    "            \"writerID,image_filename transcription...\"\n",
    "        and everything after the first field is taken as the transcription.\n",
    "        The maximum length (max_len) is measured by counting only characters that are not harakāt.\n",
    "        \"\"\"\n",
    "        with open(text_path, 'r', encoding='utf-8') as f:\n",
    "            lines = f.readlines()\n",
    "        self.words = []\n",
    "        for line in lines:\n",
    "            parts = line.strip().split(' ', 1)  # Split once so that transcription may contain spaces.\n",
    "            if len(parts) < 2:\n",
    "                continue\n",
    "            transcription = parts[1]\n",
    "            if effective_length(transcription) > max_len:\n",
    "                continue\n",
    "            self.words.append(transcription)\n",
    "        self.max_len = max_len\n",
    "        self.letters = letters\n",
    "        self.con_symbols, self.letter2index = load_unifont_arabic(pickle_path)\n",
    "        \n",
    "    def __len__(self):\n",
    "        return len(self.words)\n",
    "    \n",
    "    def __getitem__(self, idx):\n",
    "        word = self.words[idx]\n",
    "        content, forms = get_content_glyphs(word, self.con_symbols, self.letter2index)\n",
    "        return {\"word\": word, \"content\": content, \"forms\": forms}\n",
    "\n",
    "# --- Plotting Function ---\n",
    "def plot_glyphs(glyphs, word, labels):\n",
    "    \"\"\"\n",
    "    Plots the glyph images corresponding to the given word.\n",
    "    Each subplot displays the character (in right-to-left order) along with its detected contextual form.\n",
    "    \"\"\"\n",
    "    num_chars = glyphs.shape[0]\n",
    "    fig, axes = plt.subplots(1, num_chars, figsize=(num_chars * 2, 2))\n",
    "    rev_word = word[::-1]  # Reverse the word for RTL display.\n",
    "    for i, ax in enumerate(axes):\n",
    "        ax.imshow(glyphs[i].numpy(), cmap='gray')\n",
    "        ax.set_title(f\"{rev_word[i]}\\n{labels[i]}\", fontsize=8)\n",
    "        ax.axis('off')\n",
    "    plt.tight_layout()\n",
    "    plt.show()\n",
    "\n",
    "# --- Example Usage ---\n",
    "if __name__ == \"__main__\":\n",
    "    # Path to the IAM train text file (each line: \"writerID,image_filename transcription...\")\n",
    "    text_file = \"/Users/hamza/Research/One-DM/Training Datasets/ifnenit_words.txt\"  # Adjust this path as needed.\n",
    "    \n",
    "    \n",
    "    # Create the content dataset.\n",
    "    dataset = ContentData(text_file, pickle_path=\"unifont_arabic.pickle\")\n",
    "    \n",
    "    # For demonstration, pick a few words from the dataset.\n",
    "    for i in range(min(20, len(dataset))):\n",
    "        sample = dataset[i]\n",
    "        print(\"Word:\", sample[\"word\"])\n",
    "        print(\"Detected Forms:\", sample[\"forms\"])\n",
    "        plot_glyphs(sample[\"content\"], sample[\"word\"], sample[\"forms\"])\n"
   ]
  },
  {
   "cell_type": "code",
   "execution_count": null,
   "metadata": {},
   "outputs": [],
   "source": []
  }
 ],
 "metadata": {
  "kernelspec": {
   "display_name": "mlr503",
   "language": "python",
   "name": "python3"
  },
  "language_info": {
   "codemirror_mode": {
    "name": "ipython",
    "version": 3
   },
   "file_extension": ".py",
   "mimetype": "text/x-python",
   "name": "python",
   "nbconvert_exporter": "python",
   "pygments_lexer": "ipython3",
   "version": "3.12.8"
  }
 },
 "nbformat": 4,
 "nbformat_minor": 2
}
